{
 "cells": [
  {
   "cell_type": "code",
   "execution_count": 1,
   "id": "7fafd4bc",
   "metadata": {
    "execution": {
     "iopub.execute_input": "2024-05-11T23:26:04.539836Z",
     "iopub.status.busy": "2024-05-11T23:26:04.539382Z",
     "iopub.status.idle": "2024-05-11T23:26:07.066950Z",
     "shell.execute_reply": "2024-05-11T23:26:07.065696Z"
    },
    "papermill": {
     "duration": 2.535973,
     "end_time": "2024-05-11T23:26:07.069844",
     "exception": false,
     "start_time": "2024-05-11T23:26:04.533871",
     "status": "completed"
    },
    "tags": []
   },
   "outputs": [],
   "source": [
    "from sklearn.svm import SVC\n",
    "from sklearn.model_selection import cross_val_predict\n",
    "from sklearn.metrics import confusion_matrix\n",
    "import pandas as pd\n",
    "import matplotlib.pyplot as plt\n",
    "import seaborn as sns\n"
   ]
  },
  {
   "cell_type": "code",
   "execution_count": 2,
   "id": "07ebf497",
   "metadata": {
    "execution": {
     "iopub.execute_input": "2024-05-11T23:26:07.078367Z",
     "iopub.status.busy": "2024-05-11T23:26:07.077843Z",
     "iopub.status.idle": "2024-05-11T23:26:07.186828Z",
     "shell.execute_reply": "2024-05-11T23:26:07.185660Z"
    },
    "papermill": {
     "duration": 0.115926,
     "end_time": "2024-05-11T23:26:07.189291",
     "exception": false,
     "start_time": "2024-05-11T23:26:07.073365",
     "status": "completed"
    },
    "tags": []
   },
   "outputs": [
    {
     "data": {
      "text/plain": [
       "<bound method DataFrame.info of       age sex on_thyroxine query_on_thyroxine on_antithyroid_meds sick  \\\n",
       "0      29   F            f                  f                   f    f   \n",
       "1      29   F            f                  f                   f    f   \n",
       "2      41   F            f                  f                   f    f   \n",
       "3      36   F            f                  f                   f    f   \n",
       "4      32   F            f                  f                   f    f   \n",
       "...   ...  ..          ...                ...                 ...  ...   \n",
       "9167   56   M            f                  f                   f    f   \n",
       "9168   22   M            f                  f                   f    f   \n",
       "9169   69   M            f                  f                   f    f   \n",
       "9170   47   F            f                  f                   f    f   \n",
       "9171   31   M            f                  f                   f    f   \n",
       "\n",
       "     pregnant thyroid_surgery I131_treatment query_hypothyroid  ...    TT4  \\\n",
       "0           f               f              f                 t  ...    NaN   \n",
       "1           f               f              f                 f  ...  128.0   \n",
       "2           f               f              f                 f  ...    NaN   \n",
       "3           f               f              f                 f  ...    NaN   \n",
       "4           f               f              f                 f  ...    NaN   \n",
       "...       ...             ...            ...               ...  ...    ...   \n",
       "9167        f               f              f                 f  ...   64.0   \n",
       "9168        f               f              f                 f  ...   91.0   \n",
       "9169        f               f              f                 f  ...  113.0   \n",
       "9170        f               f              f                 f  ...   75.0   \n",
       "9171        f               f              f                 t  ...   66.0   \n",
       "\n",
       "     T4U_measured   T4U FTI_measured   FTI TBG_measured   TBG  \\\n",
       "0               f   NaN            f   NaN            f   NaN   \n",
       "1               f   NaN            f   NaN            f   NaN   \n",
       "2               f   NaN            f   NaN            t  11.0   \n",
       "3               f   NaN            f   NaN            t  26.0   \n",
       "4               f   NaN            f   NaN            t  36.0   \n",
       "...           ...   ...          ...   ...          ...   ...   \n",
       "9167            t  0.83            t  77.0            f   NaN   \n",
       "9168            t  0.92            t  99.0            f   NaN   \n",
       "9169            t  1.27            t  89.0            f   NaN   \n",
       "9170            t  0.85            t  88.0            f   NaN   \n",
       "9171            t  1.02            t  65.0            f   NaN   \n",
       "\n",
       "      referral_source target  patient_id  \n",
       "0               other      -   840801013  \n",
       "1               other      -   840801014  \n",
       "2               other      -   840801042  \n",
       "3               other      -   840803046  \n",
       "4               other      S   840803047  \n",
       "...               ...    ...         ...  \n",
       "9167              SVI      -   870119022  \n",
       "9168              SVI      -   870119023  \n",
       "9169              SVI      I   870119025  \n",
       "9170            other      -   870119027  \n",
       "9171            other      -   870119035  \n",
       "\n",
       "[9172 rows x 31 columns]>"
      ]
     },
     "execution_count": 2,
     "metadata": {},
     "output_type": "execute_result"
    }
   ],
   "source": [
    "data = pd.read_csv(\"/kaggle/input/thyroid-disease-data/thyroidDF.csv\")\n",
    "data.info"
   ]
  },
  {
   "cell_type": "code",
   "execution_count": 3,
   "id": "fbfadfac",
   "metadata": {
    "execution": {
     "iopub.execute_input": "2024-05-11T23:26:07.197484Z",
     "iopub.status.busy": "2024-05-11T23:26:07.197106Z",
     "iopub.status.idle": "2024-05-11T23:26:07.215702Z",
     "shell.execute_reply": "2024-05-11T23:26:07.214653Z"
    },
    "papermill": {
     "duration": 0.025422,
     "end_time": "2024-05-11T23:26:07.218072",
     "exception": false,
     "start_time": "2024-05-11T23:26:07.192650",
     "status": "completed"
    },
    "tags": []
   },
   "outputs": [],
   "source": [
    "data.dropna(inplace=True)"
   ]
  },
  {
   "cell_type": "code",
   "execution_count": 4,
   "id": "787f0e40",
   "metadata": {
    "execution": {
     "iopub.execute_input": "2024-05-11T23:26:07.226636Z",
     "iopub.status.busy": "2024-05-11T23:26:07.226245Z",
     "iopub.status.idle": "2024-05-11T23:26:07.256401Z",
     "shell.execute_reply": "2024-05-11T23:26:07.255298Z"
    },
    "papermill": {
     "duration": 0.037431,
     "end_time": "2024-05-11T23:26:07.258925",
     "exception": false,
     "start_time": "2024-05-11T23:26:07.221494",
     "status": "completed"
    },
    "tags": []
   },
   "outputs": [],
   "source": [
    "data['sex'] = data['sex'].map({'M': 1, 'F': 0})\n",
    "data['on_thyroxine'] = data['on_thyroxine'].map({'t': 1, 'f': 0})\n",
    "data['query_on_thyroxine'] = data['query_on_thyroxine'].map({'t': 1, 'f': 0})\n",
    "data['on_antithyroid_meds'] = data['on_antithyroid_meds'].map({'t': 1, 'f': 0})\n",
    "data['sick'] = data['sick'].map({'t': 1, 'f': 0})\n",
    "data['pregnant'] = data['pregnant'].map({'t': 1, 'f': 0})\n",
    "data['thyroid_surgery'] = data['thyroid_surgery'].map({'t': 1, 'f': 0})\n",
    "data['I131_treatment'] = data['I131_treatment'].map({'t': 1, 'f': 0})\n",
    "data['query_hypothyroid'] = data['query_hypothyroid'].map({'t': 1, 'f': 0})\n",
    "data['query_hyperthyroid'] = data['query_hyperthyroid'].map({'t': 1, 'f': 0})\n",
    "data['lithium'] = data['lithium'].map({'t': 1, 'f': 0})\n",
    "data['goitre'] = data['goitre'].map({'t': 1, 'f': 0})\n",
    "data['tumor'] = data['tumor'].map({'t': 1, 'f': 0})\n",
    "data['hypopituitary'] = data['hypopituitary'].map({'t': 1, 'f': 0})\n",
    "data['psych'] = data['psych'].map({'t': 1, 'f': 0})\n",
    "data['TSH_measured'] = data['TSH_measured'].map({'t': 1, 'f': 0})\n",
    "data['T3_measured'] = data['T3_measured'].map({'t': 1, 'f': 0})\n",
    "data['TT4_measured'] = data['TT4_measured'].map({'t': 1, 'f': 0})\n",
    "data['T4U_measured'] = data['T4U_measured'].map({'t': 1, 'f': 0})\n",
    "data['FTI_measured'] = data['FTI_measured'].map({'t': 1, 'f': 0})\n",
    "data['TBG_measured'] = data['TBG_measured'].map({'t': 1, 'f': 0})\n",
    "data['referral_source'] = data['referral_source'].map({'SVI': 1, 'other': 0})\n",
    "data['target'] = data['target'].map({'F': 0, '-': 1, 'K': 2, 'I': 3, 'G': 4, 'N': 5})\n",
    "\n"
   ]
  },
  {
   "cell_type": "code",
   "execution_count": 5,
   "id": "bd822a16",
   "metadata": {
    "execution": {
     "iopub.execute_input": "2024-05-11T23:26:07.267323Z",
     "iopub.status.busy": "2024-05-11T23:26:07.266886Z",
     "iopub.status.idle": "2024-05-11T23:26:07.273628Z",
     "shell.execute_reply": "2024-05-11T23:26:07.272649Z"
    },
    "papermill": {
     "duration": 0.013549,
     "end_time": "2024-05-11T23:26:07.275907",
     "exception": false,
     "start_time": "2024-05-11T23:26:07.262358",
     "status": "completed"
    },
    "tags": []
   },
   "outputs": [],
   "source": [
    "data = data.drop('patient_id',axis=1)\n"
   ]
  },
  {
   "cell_type": "code",
   "execution_count": 6,
   "id": "1dce3544",
   "metadata": {
    "execution": {
     "iopub.execute_input": "2024-05-11T23:26:07.284380Z",
     "iopub.status.busy": "2024-05-11T23:26:07.283991Z",
     "iopub.status.idle": "2024-05-11T23:26:07.370333Z",
     "shell.execute_reply": "2024-05-11T23:26:07.369185Z"
    },
    "papermill": {
     "duration": 0.093822,
     "end_time": "2024-05-11T23:26:07.373180",
     "exception": false,
     "start_time": "2024-05-11T23:26:07.279358",
     "status": "completed"
    },
    "tags": []
   },
   "outputs": [
    {
     "name": "stderr",
     "output_type": "stream",
     "text": [
      "/opt/conda/lib/python3.10/site-packages/sklearn/model_selection/_split.py:700: UserWarning: The least populated class in y has only 1 members, which is less than n_splits=10.\n",
      "  warnings.warn(\n"
     ]
    }
   ],
   "source": [
    "# Diviser les données en features et target\n",
    "X = data.drop(columns=[ 'target'])\n",
    "y = data['target']\n",
    "\n",
    "# Créer un classifieur SVM avec un noyau linéaire et une pondération des classes équilibrée\n",
    "svm = SVC(kernel='linear' ,class_weight='balanced') \n",
    "\n",
    "# Prédire les labels avec validation croisée\n",
    "y_pred = cross_val_predict(svm, X, y, cv=10)\n",
    "\n"
   ]
  },
  {
   "cell_type": "code",
   "execution_count": 7,
   "id": "69b231cd",
   "metadata": {
    "execution": {
     "iopub.execute_input": "2024-05-11T23:26:07.382373Z",
     "iopub.status.busy": "2024-05-11T23:26:07.381989Z",
     "iopub.status.idle": "2024-05-11T23:26:07.392336Z",
     "shell.execute_reply": "2024-05-11T23:26:07.391082Z"
    },
    "papermill": {
     "duration": 0.017732,
     "end_time": "2024-05-11T23:26:07.394921",
     "exception": false,
     "start_time": "2024-05-11T23:26:07.377189",
     "status": "completed"
    },
    "tags": []
   },
   "outputs": [
    {
     "name": "stderr",
     "output_type": "stream",
     "text": [
      "/tmp/ipykernel_18/1259733865.py:11: RuntimeWarning: invalid value encountered in scalar divide\n",
      "  precision = TP / (TP + FP)\n",
      "/tmp/ipykernel_18/1259733865.py:14: RuntimeWarning: invalid value encountered in scalar divide\n",
      "  recall = TP / (TP + FN)\n"
     ]
    }
   ],
   "source": [
    "# Calculer et afficher la matrice de confusion\n",
    "conf_matrix = confusion_matrix(y, y_pred)\n",
    "\n",
    "# Calcul des mesures de performance à partir de la matrice de confusion\n",
    "TP = conf_matrix[0, 0]\n",
    "FP = conf_matrix[0, 1]\n",
    "FN = conf_matrix[1, 0]\n",
    "TN = conf_matrix[1, 1]\n",
    "\n",
    "# Calcul de la précision\n",
    "precision = TP / (TP + FP)\n",
    "\n",
    "# Calcul du rappel\n",
    "recall = TP / (TP + FN)\n",
    "\n",
    "# Calcul du F1-score\n",
    "f1_score = 2 * (precision * recall) / (precision + recall)\n",
    "\n",
    "# Calcul de l'exactitude\n",
    "accuracy = (TN + TP) / (TN + FP + FN + TP)"
   ]
  },
  {
   "cell_type": "code",
   "execution_count": 8,
   "id": "c0b6666b",
   "metadata": {
    "execution": {
     "iopub.execute_input": "2024-05-11T23:26:07.404319Z",
     "iopub.status.busy": "2024-05-11T23:26:07.403542Z",
     "iopub.status.idle": "2024-05-11T23:26:07.774656Z",
     "shell.execute_reply": "2024-05-11T23:26:07.773382Z"
    },
    "papermill": {
     "duration": 0.378404,
     "end_time": "2024-05-11T23:26:07.777118",
     "exception": false,
     "start_time": "2024-05-11T23:26:07.398714",
     "status": "completed"
    },
    "tags": []
   },
   "outputs": [
    {
     "name": "stdout",
     "output_type": "stream",
     "text": [
      "* SVM RESULTS (Cross Validation) :\n",
      "Accuracy: 1.0\n",
      "Précision: nan\n",
      "Recall: nan\n",
      "F1 Score: nan\n"
     ]
    },
    {
     "data": {
      "image/png": "[encoded data removed]",
      "text/plain": [
       "<Figure size 800x600 with 2 Axes>"
      ]
     },
     "metadata": {},
     "output_type": "display_data"
    }
   ],
   "source": [
    "\n",
    "# Affichage des mesures de performance\n",
    "print(\"* SVM RESULTS (Cross Validation) :\")\n",
    "print(\"Accuracy:\", accuracy)\n",
    "print(\"Précision:\", precision)\n",
    "print(\"Recall:\", recall)\n",
    "print(\"F1 Score:\", f1_score)\n",
    "\n",
    "plt.figure(figsize=(8, 6))\n",
    "sns.heatmap(conf_matrix, annot=True, cmap='Purples', fmt='g', xticklabels=['Thyroid', 'No Thyroid'], yticklabels=['Thyroid', 'No Thyroid'])\n",
    "plt.xlabel('Predicted')\n",
    "plt.ylabel('True')\n",
    "plt.title('Confusion Matrix')\n",
    "plt.show()"
   ]
  },
  {
   "cell_type": "code",
   "execution_count": 9,
   "id": "44744187",
   "metadata": {
    "execution": {
     "iopub.execute_input": "2024-05-11T23:26:07.786870Z",
     "iopub.status.busy": "2024-05-11T23:26:07.786485Z",
     "iopub.status.idle": "2024-05-11T23:26:07.792875Z",
     "shell.execute_reply": "2024-05-11T23:26:07.792027Z"
    },
    "papermill": {
     "duration": 0.013825,
     "end_time": "2024-05-11T23:26:07.794934",
     "exception": false,
     "start_time": "2024-05-11T23:26:07.781109",
     "status": "completed"
    },
    "tags": []
   },
   "outputs": [
    {
     "data": {
      "text/plain": [
       "array([[ 0,  0,  0,  0,  1,  0],\n",
       "       [ 0, 14,  1,  0,  0,  0],\n",
       "       [ 0,  1,  0,  0,  0,  0],\n",
       "       [ 0,  1,  0,  0,  0,  0],\n",
       "       [ 0,  0,  1,  0,  0,  0],\n",
       "       [ 0,  1,  0,  0,  0,  0]])"
      ]
     },
     "execution_count": 9,
     "metadata": {},
     "output_type": "execute_result"
    }
   ],
   "source": [
    "conf_matrix"
   ]
  }
 ],
 "metadata": {
  "kaggle": {
   "accelerator": "none",
   "dataSources": [
    {
     "datasetId": 2183570,
     "sourceId": 3770402,
     "sourceType": "datasetVersion"
    }
   ],
   "dockerImageVersionId": 30698,
   "isGpuEnabled": false,
   "isInternetEnabled": true,
   "language": "python",
   "sourceType": "notebook"
  },
  "kernelspec": {
   "display_name": "Python 3",
   "language": "python",
   "name": "python3"
  },
  "language_info": {
   "codemirror_mode": {
    "name": "ipython",
    "version": 3
   },
   "file_extension": ".py",
   "mimetype": "text/x-python",
   "name": "python",
   "nbconvert_exporter": "python",
   "pygments_lexer": "ipython3",
   "version": "3.10.13"
  },
  "papermill": {
   "default_parameters": {},
   "duration": 6.708028,
   "end_time": "2024-05-11T23:26:08.419839",
   "environment_variables": {},
   "exception": null,
   "input_path": "__notebook__.ipynb",
   "output_path": "__notebook__.ipynb",
   "parameters": {},
   "start_time": "2024-05-11T23:26:01.711811",
   "version": "2.5.0"
  }
 },
 "nbformat": 4,
 "nbformat_minor": 5
}
