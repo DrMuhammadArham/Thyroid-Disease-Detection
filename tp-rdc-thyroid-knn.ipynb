{
 "cells": [
  {
   "cell_type": "code",
   "execution_count": 1,
   "id": "ebbdb778",
   "metadata": {
    "_cell_guid": "b1076dfc-b9ad-4769-8c92-a6c4dae69d19",
    "_uuid": "8f2839f25d086af736a60e9eeb907d3b93b6e0e5",
    "execution": {
     "iopub.execute_input": "2024-05-12T07:04:31.483541Z",
     "iopub.status.busy": "2024-05-12T07:04:31.482800Z",
     "iopub.status.idle": "2024-05-12T07:04:34.633590Z",
     "shell.execute_reply": "2024-05-12T07:04:34.632137Z"
    },
    "papermill": {
     "duration": 3.160818,
     "end_time": "2024-05-12T07:04:34.636815",
     "exception": false,
     "start_time": "2024-05-12T07:04:31.475997",
     "status": "completed"
    },
    "tags": []
   },
   "outputs": [],
   "source": [
    "from sklearn.metrics import confusion_matrix\n",
    "from sklearn.model_selection import cross_val_predict\n",
    "from sklearn.neighbors import KNeighborsClassifier\n",
    "import pandas as pd\n",
    "import matplotlib.pyplot as plt\n",
    "import seaborn as sns"
   ]
  },
  {
   "cell_type": "code",
   "execution_count": 2,
   "id": "1e1929e1",
   "metadata": {
    "execution": {
     "iopub.execute_input": "2024-05-12T07:04:34.647119Z",
     "iopub.status.busy": "2024-05-12T07:04:34.646490Z",
     "iopub.status.idle": "2024-05-12T07:04:34.789496Z",
     "shell.execute_reply": "2024-05-12T07:04:34.785520Z"
    },
    "papermill": {
     "duration": 0.15341,
     "end_time": "2024-05-12T07:04:34.794601",
     "exception": false,
     "start_time": "2024-05-12T07:04:34.641191",
     "status": "completed"
    },
    "tags": []
   },
   "outputs": [
    {
     "data": {
      "text/plain": [
       "<bound method DataFrame.info of       age sex on_thyroxine query_on_thyroxine on_antithyroid_meds sick  \\\n",
       "0      29   F            f                  f                   f    f   \n",
       "1      29   F            f                  f                   f    f   \n",
       "2      41   F            f                  f                   f    f   \n",
       "3      36   F            f                  f                   f    f   \n",
       "4      32   F            f                  f                   f    f   \n",
       "...   ...  ..          ...                ...                 ...  ...   \n",
       "9167   56   M            f                  f                   f    f   \n",
       "9168   22   M            f                  f                   f    f   \n",
       "9169   69   M            f                  f                   f    f   \n",
       "9170   47   F            f                  f                   f    f   \n",
       "9171   31   M            f                  f                   f    f   \n",
       "\n",
       "     pregnant thyroid_surgery I131_treatment query_hypothyroid  ...    TT4  \\\n",
       "0           f               f              f                 t  ...    NaN   \n",
       "1           f               f              f                 f  ...  128.0   \n",
       "2           f               f              f                 f  ...    NaN   \n",
       "3           f               f              f                 f  ...    NaN   \n",
       "4           f               f              f                 f  ...    NaN   \n",
       "...       ...             ...            ...               ...  ...    ...   \n",
       "9167        f               f              f                 f  ...   64.0   \n",
       "9168        f               f              f                 f  ...   91.0   \n",
       "9169        f               f              f                 f  ...  113.0   \n",
       "9170        f               f              f                 f  ...   75.0   \n",
       "9171        f               f              f                 t  ...   66.0   \n",
       "\n",
       "     T4U_measured   T4U FTI_measured   FTI TBG_measured   TBG  \\\n",
       "0               f   NaN            f   NaN            f   NaN   \n",
       "1               f   NaN            f   NaN            f   NaN   \n",
       "2               f   NaN            f   NaN            t  11.0   \n",
       "3               f   NaN            f   NaN            t  26.0   \n",
       "4               f   NaN            f   NaN            t  36.0   \n",
       "...           ...   ...          ...   ...          ...   ...   \n",
       "9167            t  0.83            t  77.0            f   NaN   \n",
       "9168            t  0.92            t  99.0            f   NaN   \n",
       "9169            t  1.27            t  89.0            f   NaN   \n",
       "9170            t  0.85            t  88.0            f   NaN   \n",
       "9171            t  1.02            t  65.0            f   NaN   \n",
       "\n",
       "      referral_source target  patient_id  \n",
       "0               other      -   840801013  \n",
       "1               other      -   840801014  \n",
       "2               other      -   840801042  \n",
       "3               other      -   840803046  \n",
       "4               other      S   840803047  \n",
       "...               ...    ...         ...  \n",
       "9167              SVI      -   870119022  \n",
       "9168              SVI      -   870119023  \n",
       "9169              SVI      I   870119025  \n",
       "9170            other      -   870119027  \n",
       "9171            other      -   870119035  \n",
       "\n",
       "[9172 rows x 31 columns]>"
      ]
     },
     "execution_count": 2,
     "metadata": {},
     "output_type": "execute_result"
    }
   ],
   "source": [
    "data = pd.read_csv(\"/kaggle/input/thyroid-disease-data/thyroidDF.csv\")\n",
    "data.info\n"
   ]
  },
  {
   "cell_type": "code",
   "execution_count": 3,
   "id": "78ee253d",
   "metadata": {
    "execution": {
     "iopub.execute_input": "2024-05-12T07:04:34.804988Z",
     "iopub.status.busy": "2024-05-12T07:04:34.804556Z",
     "iopub.status.idle": "2024-05-12T07:04:34.837101Z",
     "shell.execute_reply": "2024-05-12T07:04:34.835901Z"
    },
    "papermill": {
     "duration": 0.040918,
     "end_time": "2024-05-12T07:04:34.839865",
     "exception": false,
     "start_time": "2024-05-12T07:04:34.798947",
     "status": "completed"
    },
    "tags": []
   },
   "outputs": [],
   "source": [
    "data.dropna(inplace=True)"
   ]
  },
  {
   "cell_type": "code",
   "execution_count": 4,
   "id": "2c3b390f",
   "metadata": {
    "execution": {
     "iopub.execute_input": "2024-05-12T07:04:34.850528Z",
     "iopub.status.busy": "2024-05-12T07:04:34.850115Z",
     "iopub.status.idle": "2024-05-12T07:04:34.894398Z",
     "shell.execute_reply": "2024-05-12T07:04:34.892970Z"
    },
    "papermill": {
     "duration": 0.05338,
     "end_time": "2024-05-12T07:04:34.897537",
     "exception": false,
     "start_time": "2024-05-12T07:04:34.844157",
     "status": "completed"
    },
    "tags": []
   },
   "outputs": [],
   "source": [
    "data['sex'] = data['sex'].map({'M': 1, 'F': 0})\n",
    "data['on_thyroxine'] = data['on_thyroxine'].map({'t': 1, 'f': 0})\n",
    "data['query_on_thyroxine'] = data['query_on_thyroxine'].map({'t': 1, 'f': 0})\n",
    "data['on_antithyroid_meds'] = data['on_antithyroid_meds'].map({'t': 1, 'f': 0})\n",
    "data['sick'] = data['sick'].map({'t': 1, 'f': 0})\n",
    "data['pregnant'] = data['pregnant'].map({'t': 1, 'f': 0})\n",
    "data['thyroid_surgery'] = data['thyroid_surgery'].map({'t': 1, 'f': 0})\n",
    "data['I131_treatment'] = data['I131_treatment'].map({'t': 1, 'f': 0})\n",
    "data['query_hypothyroid'] = data['query_hypothyroid'].map({'t': 1, 'f': 0})\n",
    "data['query_hyperthyroid'] = data['query_hyperthyroid'].map({'t': 1, 'f': 0})\n",
    "data['lithium'] = data['lithium'].map({'t': 1, 'f': 0})\n",
    "data['goitre'] = data['goitre'].map({'t': 1, 'f': 0})\n",
    "data['tumor'] = data['tumor'].map({'t': 1, 'f': 0})\n",
    "data['hypopituitary'] = data['hypopituitary'].map({'t': 1, 'f': 0})\n",
    "data['psych'] = data['psych'].map({'t': 1, 'f': 0})\n",
    "data['TSH_measured'] = data['TSH_measured'].map({'t': 1, 'f': 0})\n",
    "data['T3_measured'] = data['T3_measured'].map({'t': 1, 'f': 0})\n",
    "data['TT4_measured'] = data['TT4_measured'].map({'t': 1, 'f': 0})\n",
    "data['T4U_measured'] = data['T4U_measured'].map({'t': 1, 'f': 0})\n",
    "data['FTI_measured'] = data['FTI_measured'].map({'t': 1, 'f': 0})\n",
    "data['TBG_measured'] = data['TBG_measured'].map({'t': 1, 'f': 0})\n",
    "data['referral_source'] = data['referral_source'].map({'SVI': 1, 'other': 0})\n",
    "data['target'] = data['target'].map({\n",
    "    '-': 0,\n",
    "    'S': 1,\n",
    "    'F': 2,\n",
    "    'AK': 3,\n",
    "    'R': 4,\n",
    "    'I': 5,\n",
    "    'M': 6,\n",
    "    'N': 7,\n",
    "    'G': 8,\n",
    "    'K': 9,\n",
    "    'A': 10,\n",
    "    'KJ': 11,\n",
    "    'L': 12,\n",
    "    'MK': 13,\n",
    "    'Q': 14,\n",
    "    'J': 15,\n",
    "    'C|I': 16,\n",
    "    'O': 17,\n",
    "    'LJ': 18,\n",
    "    'H|K': 19,\n",
    "    'D': 20,\n",
    "    'GK': 21,\n",
    "    'MI': 22,\n",
    "    'P': 23,\n",
    "    'FK': 24,\n",
    "    'B': 25,\n",
    "    'GI': 26,\n",
    "    'C': 27,\n",
    "    'GKJ': 28,\n",
    "    'OI': 29,\n",
    "    'D|R': 30,\n",
    "    'E': 31\n",
    "})\n"
   ]
  },
  {
   "cell_type": "code",
   "execution_count": 5,
   "id": "6ab77276",
   "metadata": {
    "execution": {
     "iopub.execute_input": "2024-05-12T07:04:34.907994Z",
     "iopub.status.busy": "2024-05-12T07:04:34.907614Z",
     "iopub.status.idle": "2024-05-12T07:04:34.914813Z",
     "shell.execute_reply": "2024-05-12T07:04:34.913279Z"
    },
    "papermill": {
     "duration": 0.015711,
     "end_time": "2024-05-12T07:04:34.917732",
     "exception": false,
     "start_time": "2024-05-12T07:04:34.902021",
     "status": "completed"
    },
    "tags": []
   },
   "outputs": [],
   "source": [
    "\n",
    "\n",
    "data = data.drop('patient_id',axis=1)\n",
    "\n"
   ]
  },
  {
   "cell_type": "code",
   "execution_count": 6,
   "id": "613b9261",
   "metadata": {
    "execution": {
     "iopub.execute_input": "2024-05-12T07:04:34.928129Z",
     "iopub.status.busy": "2024-05-12T07:04:34.927686Z",
     "iopub.status.idle": "2024-05-12T07:04:35.115015Z",
     "shell.execute_reply": "2024-05-12T07:04:35.113967Z"
    },
    "papermill": {
     "duration": 0.195778,
     "end_time": "2024-05-12T07:04:35.117772",
     "exception": false,
     "start_time": "2024-05-12T07:04:34.921994",
     "status": "completed"
    },
    "tags": []
   },
   "outputs": [
    {
     "name": "stderr",
     "output_type": "stream",
     "text": [
      "/opt/conda/lib/python3.10/site-packages/sklearn/model_selection/_split.py:700: UserWarning: The least populated class in y has only 1 members, which is less than n_splits=10.\n",
      "  warnings.warn(\n"
     ]
    }
   ],
   "source": [
    "\n",
    "X = data.drop(columns=['target'])\n",
    "y = data['target']\n",
    "\n",
    "knn = KNeighborsClassifier(n_neighbors=3)\n",
    "knn.fit(X, y)\n",
    "\n",
    "y_pred = cross_val_predict(knn, X, y, cv=10)\n"
   ]
  },
  {
   "cell_type": "code",
   "execution_count": 7,
   "id": "d42040eb",
   "metadata": {
    "execution": {
     "iopub.execute_input": "2024-05-12T07:04:35.129170Z",
     "iopub.status.busy": "2024-05-12T07:04:35.128625Z",
     "iopub.status.idle": "2024-05-12T07:04:35.139141Z",
     "shell.execute_reply": "2024-05-12T07:04:35.137691Z"
    },
    "papermill": {
     "duration": 0.01899,
     "end_time": "2024-05-12T07:04:35.141682",
     "exception": false,
     "start_time": "2024-05-12T07:04:35.122692",
     "status": "completed"
    },
    "tags": []
   },
   "outputs": [],
   "source": [
    "\n",
    "conf_matrix = confusion_matrix(y, y_pred)\n",
    "\n",
    "TP = conf_matrix[0, 0]\n",
    "FP = conf_matrix[0, 1]\n",
    "FN = conf_matrix[1, 0]\n",
    "TN = conf_matrix[1, 1]\n",
    "\n",
    "precision = TP / (TP + FP)\n",
    "\n",
    "recall = TP / (TP + FN)\n",
    "\n",
    "f1_score = 2 * (precision * recall) / (precision + recall)\n",
    "\n",
    "accuracy = (TN + TP) / (TN + FP + FN + TP)\n"
   ]
  },
  {
   "cell_type": "code",
   "execution_count": 8,
   "id": "f83fb5ff",
   "metadata": {
    "execution": {
     "iopub.execute_input": "2024-05-12T07:04:35.152845Z",
     "iopub.status.busy": "2024-05-12T07:04:35.152032Z",
     "iopub.status.idle": "2024-05-12T07:04:35.585190Z",
     "shell.execute_reply": "2024-05-12T07:04:35.583829Z"
    },
    "papermill": {
     "duration": 0.441856,
     "end_time": "2024-05-12T07:04:35.588074",
     "exception": false,
     "start_time": "2024-05-12T07:04:35.146218",
     "status": "completed"
    },
    "tags": []
   },
   "outputs": [
    {
     "name": "stdout",
     "output_type": "stream",
     "text": [
      "* KNN RESULTS :\n",
      "Accuracy: 0.9375\n",
      "Précision: 1.0\n",
      "Recall: 0.9375\n",
      "F1 Score: 0.967741935483871\n"
     ]
    },
    {
     "data": {
      "image/png": "[encoded data removed]",
      "text/plain": [
       "<Figure size 800x600 with 2 Axes>"
      ]
     },
     "metadata": {},
     "output_type": "display_data"
    }
   ],
   "source": [
    "print(\"* KNN RESULTS :\")\n",
    "print(\"Accuracy:\", accuracy)\n",
    "print(\"Précision:\", precision)\n",
    "print(\"Recall:\", recall)\n",
    "print(\"F1 Score:\", f1_score)\n",
    "\n",
    "plt.figure(figsize=(8, 6))\n",
    "sns.heatmap(conf_matrix, annot=True, cmap='Purples', fmt='g', xticklabels=['Thyroid', 'No Thyroid'], yticklabels=['Thyroid', 'No Thyroid'])\n",
    "plt.xlabel('Predicted')\n",
    "plt.ylabel('True')\n",
    "plt.title('Confusion Matrix')\n",
    "plt.show()"
   ]
  }
 ],
 "metadata": {
  "kaggle": {
   "accelerator": "none",
   "dataSources": [
    {
     "datasetId": 2183570,
     "sourceId": 3770402,
     "sourceType": "datasetVersion"
    }
   ],
   "dockerImageVersionId": 30698,
   "isGpuEnabled": false,
   "isInternetEnabled": true,
   "language": "python",
   "sourceType": "notebook"
  },
  "kernelspec": {
   "display_name": "Python 3",
   "language": "python",
   "name": "python3"
  },
  "language_info": {
   "codemirror_mode": {
    "name": "ipython",
    "version": 3
   },
   "file_extension": ".py",
   "mimetype": "text/x-python",
   "name": "python",
   "nbconvert_exporter": "python",
   "pygments_lexer": "ipython3",
   "version": "3.10.13"
  },
  "papermill": {
   "default_parameters": {},
   "duration": 8.570794,
   "end_time": "2024-05-12T07:04:36.315818",
   "environment_variables": {},
   "exception": null,
   "input_path": "__notebook__.ipynb",
   "output_path": "__notebook__.ipynb",
   "parameters": {},
   "start_time": "2024-05-12T07:04:27.745024",
   "version": "2.5.0"
  }
 },
 "nbformat": 4,
 "nbformat_minor": 5
}
