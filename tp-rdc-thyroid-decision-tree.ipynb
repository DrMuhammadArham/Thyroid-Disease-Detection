{
 "cells": [
  {
   "cell_type": "code",
   "execution_count": 1,
   "id": "7a6fcb2b",
   "metadata": {
    "execution": {
     "iopub.execute_input": "2024-05-12T06:55:59.793776Z",
     "iopub.status.busy": "2024-05-12T06:55:59.793312Z",
     "iopub.status.idle": "2024-05-12T06:56:02.540866Z",
     "shell.execute_reply": "2024-05-12T06:56:02.539548Z"
    },
    "papermill": {
     "duration": 2.758494,
     "end_time": "2024-05-12T06:56:02.543667",
     "exception": false,
     "start_time": "2024-05-12T06:55:59.785173",
     "status": "completed"
    },
    "tags": []
   },
   "outputs": [],
   "source": [
    "from sklearn.tree import DecisionTreeClassifier, plot_tree\n",
    "from sklearn.model_selection import cross_val_predict\n",
    "from sklearn.metrics import confusion_matrix\n",
    "import matplotlib.pyplot as plt\n",
    "import pandas as pd\n",
    "import numpy as np\n",
    "import seaborn as sns\n",
    "import matplotlib.pyplot as plt\n"
   ]
  },
  {
   "cell_type": "code",
   "execution_count": 2,
   "id": "0101c7ef",
   "metadata": {
    "execution": {
     "iopub.execute_input": "2024-05-12T06:56:02.558575Z",
     "iopub.status.busy": "2024-05-12T06:56:02.557233Z",
     "iopub.status.idle": "2024-05-12T06:56:02.675629Z",
     "shell.execute_reply": "2024-05-12T06:56:02.674543Z"
    },
    "papermill": {
     "duration": 0.127989,
     "end_time": "2024-05-12T06:56:02.678131",
     "exception": false,
     "start_time": "2024-05-12T06:56:02.550142",
     "status": "completed"
    },
    "tags": []
   },
   "outputs": [
    {
     "data": {
      "text/plain": [
       "<bound method DataFrame.info of       age sex on_thyroxine query_on_thyroxine on_antithyroid_meds sick  \\\n",
       "0      29   F            f                  f                   f    f   \n",
       "1      29   F            f                  f                   f    f   \n",
       "2      41   F            f                  f                   f    f   \n",
       "3      36   F            f                  f                   f    f   \n",
       "4      32   F            f                  f                   f    f   \n",
       "...   ...  ..          ...                ...                 ...  ...   \n",
       "9167   56   M            f                  f                   f    f   \n",
       "9168   22   M            f                  f                   f    f   \n",
       "9169   69   M            f                  f                   f    f   \n",
       "9170   47   F            f                  f                   f    f   \n",
       "9171   31   M            f                  f                   f    f   \n",
       "\n",
       "     pregnant thyroid_surgery I131_treatment query_hypothyroid  ...    TT4  \\\n",
       "0           f               f              f                 t  ...    NaN   \n",
       "1           f               f              f                 f  ...  128.0   \n",
       "2           f               f              f                 f  ...    NaN   \n",
       "3           f               f              f                 f  ...    NaN   \n",
       "4           f               f              f                 f  ...    NaN   \n",
       "...       ...             ...            ...               ...  ...    ...   \n",
       "9167        f               f              f                 f  ...   64.0   \n",
       "9168        f               f              f                 f  ...   91.0   \n",
       "9169        f               f              f                 f  ...  113.0   \n",
       "9170        f               f              f                 f  ...   75.0   \n",
       "9171        f               f              f                 t  ...   66.0   \n",
       "\n",
       "     T4U_measured   T4U FTI_measured   FTI TBG_measured   TBG  \\\n",
       "0               f   NaN            f   NaN            f   NaN   \n",
       "1               f   NaN            f   NaN            f   NaN   \n",
       "2               f   NaN            f   NaN            t  11.0   \n",
       "3               f   NaN            f   NaN            t  26.0   \n",
       "4               f   NaN            f   NaN            t  36.0   \n",
       "...           ...   ...          ...   ...          ...   ...   \n",
       "9167            t  0.83            t  77.0            f   NaN   \n",
       "9168            t  0.92            t  99.0            f   NaN   \n",
       "9169            t  1.27            t  89.0            f   NaN   \n",
       "9170            t  0.85            t  88.0            f   NaN   \n",
       "9171            t  1.02            t  65.0            f   NaN   \n",
       "\n",
       "      referral_source target  patient_id  \n",
       "0               other      -   840801013  \n",
       "1               other      -   840801014  \n",
       "2               other      -   840801042  \n",
       "3               other      -   840803046  \n",
       "4               other      S   840803047  \n",
       "...               ...    ...         ...  \n",
       "9167              SVI      -   870119022  \n",
       "9168              SVI      -   870119023  \n",
       "9169              SVI      I   870119025  \n",
       "9170            other      -   870119027  \n",
       "9171            other      -   870119035  \n",
       "\n",
       "[9172 rows x 31 columns]>"
      ]
     },
     "execution_count": 2,
     "metadata": {},
     "output_type": "execute_result"
    }
   ],
   "source": [
    "\n",
    "\n",
    "data = pd.read_csv(\"/kaggle/input/thyroid-disease-data/thyroidDF.csv\")\n",
    "data.info\n",
    "\n"
   ]
  },
  {
   "cell_type": "code",
   "execution_count": 3,
   "id": "182d8283",
   "metadata": {
    "execution": {
     "iopub.execute_input": "2024-05-12T06:56:02.692538Z",
     "iopub.status.busy": "2024-05-12T06:56:02.691674Z",
     "iopub.status.idle": "2024-05-12T06:56:02.723419Z",
     "shell.execute_reply": "2024-05-12T06:56:02.722183Z"
    },
    "papermill": {
     "duration": 0.041806,
     "end_time": "2024-05-12T06:56:02.725976",
     "exception": false,
     "start_time": "2024-05-12T06:56:02.684170",
     "status": "completed"
    },
    "tags": []
   },
   "outputs": [],
   "source": [
    "data.dropna(inplace=True)"
   ]
  },
  {
   "cell_type": "code",
   "execution_count": 4,
   "id": "25b6b88b",
   "metadata": {
    "execution": {
     "iopub.execute_input": "2024-05-12T06:56:02.740078Z",
     "iopub.status.busy": "2024-05-12T06:56:02.739658Z",
     "iopub.status.idle": "2024-05-12T06:56:02.779038Z",
     "shell.execute_reply": "2024-05-12T06:56:02.777793Z"
    },
    "papermill": {
     "duration": 0.049189,
     "end_time": "2024-05-12T06:56:02.781311",
     "exception": false,
     "start_time": "2024-05-12T06:56:02.732122",
     "status": "completed"
    },
    "tags": []
   },
   "outputs": [],
   "source": [
    "data['sex'] = data['sex'].map({'M': 1, 'F': 0})\n",
    "data['on_thyroxine'] = data['on_thyroxine'].map({'t': 1, 'f': 0})\n",
    "data['query_on_thyroxine'] = data['query_on_thyroxine'].map({'t': 1, 'f': 0})\n",
    "data['on_antithyroid_meds'] = data['on_antithyroid_meds'].map({'t': 1, 'f': 0})\n",
    "data['sick'] = data['sick'].map({'t': 1, 'f': 0})\n",
    "data['pregnant'] = data['pregnant'].map({'t': 1, 'f': 0})\n",
    "data['thyroid_surgery'] = data['thyroid_surgery'].map({'t': 1, 'f': 0})\n",
    "data['I131_treatment'] = data['I131_treatment'].map({'t': 1, 'f': 0})\n",
    "data['query_hypothyroid'] = data['query_hypothyroid'].map({'t': 1, 'f': 0})\n",
    "data['query_hyperthyroid'] = data['query_hyperthyroid'].map({'t': 1, 'f': 0})\n",
    "data['lithium'] = data['lithium'].map({'t': 1, 'f': 0})\n",
    "data['goitre'] = data['goitre'].map({'t': 1, 'f': 0})\n",
    "data['tumor'] = data['tumor'].map({'t': 1, 'f': 0})\n",
    "data['hypopituitary'] = data['hypopituitary'].map({'t': 1, 'f': 0})\n",
    "data['psych'] = data['psych'].map({'t': 1, 'f': 0})\n",
    "data['TSH_measured'] = data['TSH_measured'].map({'t': 1, 'f': 0})\n",
    "data['T3_measured'] = data['T3_measured'].map({'t': 1, 'f': 0})\n",
    "data['TT4_measured'] = data['TT4_measured'].map({'t': 1, 'f': 0})\n",
    "data['T4U_measured'] = data['T4U_measured'].map({'t': 1, 'f': 0})\n",
    "data['FTI_measured'] = data['FTI_measured'].map({'t': 1, 'f': 0})\n",
    "data['TBG_measured'] = data['TBG_measured'].map({'t': 1, 'f': 0})\n",
    "data['referral_source'] = data['referral_source'].map({'SVI': 1, 'other': 0})\n",
    "data['target'] = data['target'].map({\n",
    "    '-': 0,\n",
    "    'S': 1,\n",
    "    'F': 2,\n",
    "    'AK': 3,\n",
    "    'R': 4,\n",
    "    'I': 5,\n",
    "    'M': 6,\n",
    "    'N': 7,\n",
    "    'G': 8,\n",
    "    'K': 9,\n",
    "    'A': 10,\n",
    "    'KJ': 11,\n",
    "    'L': 12,\n",
    "    'MK': 13,\n",
    "    'Q': 14,\n",
    "    'J': 15,\n",
    "    'C|I': 16,\n",
    "    'O': 17,\n",
    "    'LJ': 18,\n",
    "    'H|K': 19,\n",
    "    'D': 20,\n",
    "    'GK': 21,\n",
    "    'MI': 22,\n",
    "    'P': 23,\n",
    "    'FK': 24,\n",
    "    'B': 25,\n",
    "    'GI': 26,\n",
    "    'C': 27,\n",
    "    'GKJ': 28,\n",
    "    'OI': 29,\n",
    "    'D|R': 30,\n",
    "    'E': 31\n",
    "})"
   ]
  },
  {
   "cell_type": "code",
   "execution_count": 5,
   "id": "2c101d44",
   "metadata": {
    "execution": {
     "iopub.execute_input": "2024-05-12T06:56:02.795268Z",
     "iopub.status.busy": "2024-05-12T06:56:02.794859Z",
     "iopub.status.idle": "2024-05-12T06:56:02.801731Z",
     "shell.execute_reply": "2024-05-12T06:56:02.800682Z"
    },
    "papermill": {
     "duration": 0.016519,
     "end_time": "2024-05-12T06:56:02.804021",
     "exception": false,
     "start_time": "2024-05-12T06:56:02.787502",
     "status": "completed"
    },
    "tags": []
   },
   "outputs": [],
   "source": [
    "\n",
    "\n",
    "data = data.drop('patient_id',axis=1)\n",
    "\n"
   ]
  },
  {
   "cell_type": "code",
   "execution_count": 6,
   "id": "ec95b5b2",
   "metadata": {
    "execution": {
     "iopub.execute_input": "2024-05-12T06:56:02.818345Z",
     "iopub.status.busy": "2024-05-12T06:56:02.817439Z",
     "iopub.status.idle": "2024-05-12T06:56:02.878043Z",
     "shell.execute_reply": "2024-05-12T06:56:02.876765Z"
    },
    "papermill": {
     "duration": 0.070762,
     "end_time": "2024-05-12T06:56:02.880866",
     "exception": false,
     "start_time": "2024-05-12T06:56:02.810104",
     "status": "completed"
    },
    "tags": []
   },
   "outputs": [
    {
     "name": "stderr",
     "output_type": "stream",
     "text": [
      "/opt/conda/lib/python3.10/site-packages/sklearn/model_selection/_split.py:700: UserWarning: The least populated class in y has only 1 members, which is less than n_splits=5.\n",
      "  warnings.warn(\n"
     ]
    }
   ],
   "source": [
    "\n",
    "# Diviser les données en features et target\n",
    "X = data.drop(columns=['target'])\n",
    "y = data['target']\n",
    "\n",
    "dt_classifier = DecisionTreeClassifier(random_state=42)\n",
    "dt_classifier.fit(X, y)\n",
    "y_pred = cross_val_predict(dt_classifier, X, y, cv=5)\n"
   ]
  },
  {
   "cell_type": "code",
   "execution_count": 7,
   "id": "5539d0ed",
   "metadata": {
    "execution": {
     "iopub.execute_input": "2024-05-12T06:56:02.894957Z",
     "iopub.status.busy": "2024-05-12T06:56:02.894319Z",
     "iopub.status.idle": "2024-05-12T06:56:02.903645Z",
     "shell.execute_reply": "2024-05-12T06:56:02.902557Z"
    },
    "papermill": {
     "duration": 0.019118,
     "end_time": "2024-05-12T06:56:02.906112",
     "exception": false,
     "start_time": "2024-05-12T06:56:02.886994",
     "status": "completed"
    },
    "tags": []
   },
   "outputs": [],
   "source": [
    "conf_matrix = confusion_matrix(y, y_pred)\n",
    "# Calcul des mesures de performance à partir de la matrice de confusion\n",
    "TP = conf_matrix[0, 0]\n",
    "FP = conf_matrix[0, 1]\n",
    "FN = conf_matrix[1, 0]\n",
    "TN = conf_matrix[1, 1]\n",
    "\n",
    "# Calcul de la précision\n",
    "precision = TP / (TP + FP)\n",
    "\n",
    "# Calcul du rappel\n",
    "recall = TP / (TP + FN)\n",
    "\n",
    "# Calcul du F1-score\n",
    "f1_score = 2 * (precision * recall) / (precision + recall)\n",
    "\n",
    "# Calcul de l'exactitude\n",
    "accuracy = (TN + TP) / (TN + FP + FN + TP)\n"
   ]
  },
  {
   "cell_type": "code",
   "execution_count": 8,
   "id": "f4971c20",
   "metadata": {
    "execution": {
     "iopub.execute_input": "2024-05-12T06:56:02.920627Z",
     "iopub.status.busy": "2024-05-12T06:56:02.920246Z",
     "iopub.status.idle": "2024-05-12T06:56:03.316164Z",
     "shell.execute_reply": "2024-05-12T06:56:03.315108Z"
    },
    "papermill": {
     "duration": 0.406053,
     "end_time": "2024-05-12T06:56:03.318647",
     "exception": false,
     "start_time": "2024-05-12T06:56:02.912594",
     "status": "completed"
    },
    "tags": []
   },
   "outputs": [
    {
     "name": "stdout",
     "output_type": "stream",
     "text": [
      "* DECISION TREE RESULTS (Cross Validation) :\n",
      "Accuracy: 0.9230769230769231\n",
      "Précision: 1.0\n",
      "Recall: 0.9230769230769231\n",
      "F1 Score: 0.9600000000000001\n"
     ]
    },
    {
     "data": {
      "image/png": "[encoded data removed]",
      "text/plain": [
       "<Figure size 800x600 with 2 Axes>"
      ]
     },
     "metadata": {},
     "output_type": "display_data"
    }
   ],
   "source": [
    "# Affichage des mesures de performance\n",
    "print(\"* DECISION TREE RESULTS (Cross Validation) :\")\n",
    "print(\"Accuracy:\", accuracy)\n",
    "print(\"Précision:\", precision)\n",
    "print(\"Recall:\", recall)\n",
    "print(\"F1 Score:\", f1_score)\n",
    "\n",
    "# Afficher l'arbre de décision\n",
    "'''plt.figure(figsize=(15, 10))\n",
    "plot_tree(dt_classifier, feature_names=X.columns, class_names=['No Thyroid', 'Thyroid'], filled=False, fontsize=5, max_depth=3)\n",
    "plt.title(\"Decision Tree\")\n",
    "plt.show()\n",
    "'''\n",
    "plt.figure(figsize=(8, 6))\n",
    "sns.heatmap(conf_matrix, annot=True, cmap='Blues', fmt='g', xticklabels=['Thyroid', 'No Thyroid'], yticklabels=['Thyroid', 'No Thyroid'])\n",
    "plt.xlabel('Predicted')\n",
    "plt.ylabel('True')\n",
    "plt.title('Confusion Matrix')\n",
    "plt.show()"
   ]
  },
  {
   "cell_type": "code",
   "execution_count": 9,
   "id": "6e400a49",
   "metadata": {
    "execution": {
     "iopub.execute_input": "2024-05-12T06:56:03.333943Z",
     "iopub.status.busy": "2024-05-12T06:56:03.333508Z",
     "iopub.status.idle": "2024-05-12T06:56:03.340560Z",
     "shell.execute_reply": "2024-05-12T06:56:03.339458Z"
    },
    "papermill": {
     "duration": 0.017437,
     "end_time": "2024-05-12T06:56:03.342902",
     "exception": false,
     "start_time": "2024-05-12T06:56:03.325465",
     "status": "completed"
    },
    "tags": []
   },
   "outputs": [
    {
     "data": {
      "text/plain": [
       "12"
      ]
     },
     "execution_count": 9,
     "metadata": {},
     "output_type": "execute_result"
    }
   ],
   "source": [
    "TP"
   ]
  },
  {
   "cell_type": "code",
   "execution_count": 10,
   "id": "b9dc2ed8",
   "metadata": {
    "execution": {
     "iopub.execute_input": "2024-05-12T06:56:03.358340Z",
     "iopub.status.busy": "2024-05-12T06:56:03.357939Z",
     "iopub.status.idle": "2024-05-12T06:56:03.364772Z",
     "shell.execute_reply": "2024-05-12T06:56:03.363793Z"
    },
    "papermill": {
     "duration": 0.017347,
     "end_time": "2024-05-12T06:56:03.367139",
     "exception": false,
     "start_time": "2024-05-12T06:56:03.349792",
     "status": "completed"
    },
    "tags": []
   },
   "outputs": [
    {
     "data": {
      "text/plain": [
       "0"
      ]
     },
     "execution_count": 10,
     "metadata": {},
     "output_type": "execute_result"
    }
   ],
   "source": [
    "TN"
   ]
  },
  {
   "cell_type": "code",
   "execution_count": 11,
   "id": "7cc9e415",
   "metadata": {
    "execution": {
     "iopub.execute_input": "2024-05-12T06:56:03.383042Z",
     "iopub.status.busy": "2024-05-12T06:56:03.382616Z",
     "iopub.status.idle": "2024-05-12T06:56:03.388818Z",
     "shell.execute_reply": "2024-05-12T06:56:03.387806Z"
    },
    "papermill": {
     "duration": 0.017045,
     "end_time": "2024-05-12T06:56:03.391185",
     "exception": false,
     "start_time": "2024-05-12T06:56:03.374140",
     "status": "completed"
    },
    "tags": []
   },
   "outputs": [
    {
     "data": {
      "text/plain": [
       "0"
      ]
     },
     "execution_count": 11,
     "metadata": {},
     "output_type": "execute_result"
    }
   ],
   "source": [
    "FP"
   ]
  },
  {
   "cell_type": "code",
   "execution_count": 12,
   "id": "f9eb3b30",
   "metadata": {
    "execution": {
     "iopub.execute_input": "2024-05-12T06:56:03.407796Z",
     "iopub.status.busy": "2024-05-12T06:56:03.407381Z",
     "iopub.status.idle": "2024-05-12T06:56:03.413158Z",
     "shell.execute_reply": "2024-05-12T06:56:03.412338Z"
    },
    "papermill": {
     "duration": 0.016958,
     "end_time": "2024-05-12T06:56:03.415452",
     "exception": false,
     "start_time": "2024-05-12T06:56:03.398494",
     "status": "completed"
    },
    "tags": []
   },
   "outputs": [
    {
     "data": {
      "text/plain": [
       "1"
      ]
     },
     "execution_count": 12,
     "metadata": {},
     "output_type": "execute_result"
    }
   ],
   "source": [
    "FN"
   ]
  },
  {
   "cell_type": "code",
   "execution_count": 13,
   "id": "5ef42bed",
   "metadata": {
    "execution": {
     "iopub.execute_input": "2024-05-12T06:56:03.433079Z",
     "iopub.status.busy": "2024-05-12T06:56:03.432387Z",
     "iopub.status.idle": "2024-05-12T06:56:03.439575Z",
     "shell.execute_reply": "2024-05-12T06:56:03.438507Z"
    },
    "papermill": {
     "duration": 0.019228,
     "end_time": "2024-05-12T06:56:03.442072",
     "exception": false,
     "start_time": "2024-05-12T06:56:03.422844",
     "status": "completed"
    },
    "tags": []
   },
   "outputs": [
    {
     "data": {
      "text/plain": [
       "array([[12,  0,  0,  1,  0,  2],\n",
       "       [ 1,  0,  0,  0,  0,  0],\n",
       "       [ 0,  0,  0,  1,  0,  0],\n",
       "       [ 1,  0,  0,  0,  0,  0],\n",
       "       [ 0,  0,  0,  0,  0,  1],\n",
       "       [ 1,  0,  0,  0,  0,  0]])"
      ]
     },
     "execution_count": 13,
     "metadata": {},
     "output_type": "execute_result"
    }
   ],
   "source": [
    "conf_matrix"
   ]
  },
  {
   "cell_type": "code",
   "execution_count": 14,
   "id": "05fcea4a",
   "metadata": {
    "execution": {
     "iopub.execute_input": "2024-05-12T06:56:03.461015Z",
     "iopub.status.busy": "2024-05-12T06:56:03.459888Z",
     "iopub.status.idle": "2024-05-12T06:56:03.467523Z",
     "shell.execute_reply": "2024-05-12T06:56:03.466404Z"
    },
    "papermill": {
     "duration": 0.019883,
     "end_time": "2024-05-12T06:56:03.469702",
     "exception": false,
     "start_time": "2024-05-12T06:56:03.449819",
     "status": "completed"
    },
    "tags": []
   },
   "outputs": [
    {
     "data": {
      "text/plain": [
       "167     2\n",
       "5256    0\n",
       "6044    0\n",
       "6045    0\n",
       "6747    9\n",
       "6773    0\n",
       "6862    0\n",
       "6863    0\n",
       "6880    0\n",
       "6934    0\n",
       "7097    0\n",
       "7101    0\n",
       "7103    0\n",
       "7190    0\n",
       "7239    5\n",
       "7254    0\n",
       "7356    0\n",
       "7591    0\n",
       "7733    8\n",
       "8116    7\n",
       "Name: target, dtype: int64"
      ]
     },
     "execution_count": 14,
     "metadata": {},
     "output_type": "execute_result"
    }
   ],
   "source": [
    "y"
   ]
  },
  {
   "cell_type": "code",
   "execution_count": 15,
   "id": "0bed1741",
   "metadata": {
    "execution": {
     "iopub.execute_input": "2024-05-12T06:56:03.486881Z",
     "iopub.status.busy": "2024-05-12T06:56:03.486455Z",
     "iopub.status.idle": "2024-05-12T06:56:03.496238Z",
     "shell.execute_reply": "2024-05-12T06:56:03.495127Z"
    },
    "papermill": {
     "duration": 0.021192,
     "end_time": "2024-05-12T06:56:03.498630",
     "exception": false,
     "start_time": "2024-05-12T06:56:03.477438",
     "status": "completed"
    },
    "tags": []
   },
   "outputs": [
    {
     "data": {
      "text/plain": [
       "array([2, 0, 9, 5, 8, 7])"
      ]
     },
     "execution_count": 15,
     "metadata": {},
     "output_type": "execute_result"
    }
   ],
   "source": [
    "data['target'].unique()"
   ]
  }
 ],
 "metadata": {
  "kaggle": {
   "accelerator": "none",
   "dataSources": [
    {
     "datasetId": 2183570,
     "sourceId": 3770402,
     "sourceType": "datasetVersion"
    }
   ],
   "dockerImageVersionId": 30698,
   "isGpuEnabled": false,
   "isInternetEnabled": true,
   "language": "python",
   "sourceType": "notebook"
  },
  "kernelspec": {
   "display_name": "Python 3",
   "language": "python",
   "name": "python3"
  },
  "language_info": {
   "codemirror_mode": {
    "name": "ipython",
    "version": 3
   },
   "file_extension": ".py",
   "mimetype": "text/x-python",
   "name": "python",
   "nbconvert_exporter": "python",
   "pygments_lexer": "ipython3",
   "version": "3.10.13"
  },
  "papermill": {
   "default_parameters": {},
   "duration": 7.305727,
   "end_time": "2024-05-12T06:56:04.128266",
   "environment_variables": {},
   "exception": null,
   "input_path": "__notebook__.ipynb",
   "output_path": "__notebook__.ipynb",
   "parameters": {},
   "start_time": "2024-05-12T06:55:56.822539",
   "version": "2.5.0"
  }
 },
 "nbformat": 4,
 "nbformat_minor": 5
}
